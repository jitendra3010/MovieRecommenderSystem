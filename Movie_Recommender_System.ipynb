{
 "cells": [
  {
   "cell_type": "markdown",
   "id": "f32d170a",
   "metadata": {},
   "source": [
    "# Movie Recommender System"
   ]
  },
  {
   "cell_type": "markdown",
   "id": "2af179bf",
   "metadata": {},
   "source": [
    "In this notebook we'll be building a Movie Recommendation System using the preprocessed dataset which was pre processed in the previous notebook, we will pretty much build as a foundation in recommendation systems and will provide you with something to start with."
   ]
  },
  {
   "cell_type": "markdown",
   "id": "4f50a953",
   "metadata": {},
   "source": [
    "* [Simple Recommender](#simple_rec)\n",
    "* [Content Based Recommender](#cont_base)\n",
    "* [Collaborative Filtering](#collab_fil)\n",
    "* [Hybrid Recommender](#hyb_reco)\n",
    "* [Conclusion](#conc)"
   ]
  },
  {
   "cell_type": "markdown",
   "id": "415ac3ad",
   "metadata": {},
   "source": [
    "<a class='anchor' id=\"simple_rec\"></a>"
   ]
  },
  {
   "cell_type": "markdown",
   "id": "1d7de1e4",
   "metadata": {},
   "source": [
    "## Simple Recommender"
   ]
  },
  {
   "cell_type": "markdown",
   "id": "631508c1",
   "metadata": {},
   "source": [
    "* The Simple Recommender provides universal movie recommendations to all users, relying on factors such as overall popularity and, occasionally, genre. The fundamental concept behind this recommender is that films with higher popularity and critical acclaim are more likely to be enjoyed by the average audience. Unlike personalized recommendation models, this approach does not tailor suggestions to individual users.\n",
    "\n",
    "* Implementing this model is straightforward—sorting movies based on ratings and popularity, then presenting the top-ranked movies. Optionally, the model can also consider a genre parameter to filter and display the top movies within a specific genre."
   ]
  },
  {
   "cell_type": "code",
   "execution_count": 1,
   "id": "1309aaa1",
   "metadata": {},
   "outputs": [],
   "source": [
    "%matplotlib inline\n",
    "import pandas as pd\n",
    "import numpy as np\n",
    "import matplotlib.pyplot as plt\n",
    "\n",
    "import seaborn as sns\n",
    "from scipy import stats\n",
    "from ast import literal_eval\n",
    "from sklearn.feature_extraction.text import TfidfVectorizer, CountVectorizer\n",
    "from sklearn.metrics.pairwise import linear_kernel, cosine_similarity\n",
    "from nltk.stem.snowball import SnowballStemmer\n",
    "from nltk.stem.wordnet import WordNetLemmatizer\n",
    "from nltk.corpus import wordnet\n",
    "import requests\n",
    "from IPython.display import Image, display\n",
    "from surprise import Reader, Dataset, SVD\n",
    "from surprise.model_selection import cross_validate\n",
    "\n",
    "import time\n",
    "\n",
    "import warnings; warnings.simplefilter('ignore')"
   ]
  },
  {
   "cell_type": "code",
   "execution_count": 2,
   "id": "ac3422a3",
   "metadata": {},
   "outputs": [
    {
     "data": {
      "text/plain": [
       "Index(['belongs_to_collection', 'budget', 'genres', 'homepage', 'id',\n",
       "       'overview', 'popularity', 'poster_path', 'production_companies',\n",
       "       'production_countries', 'release_date', 'revenue', 'runtime',\n",
       "       'spoken_languages', 'tagline', 'title', 'vote_average', 'vote_count',\n",
       "       'cast', 'return', 'year', 'cast_size', 'crew_size', 'director',\n",
       "       'is_Animation', 'is_Comedy', 'is_Family', 'is_Adventure', 'is_Fantasy',\n",
       "       'is_Romance', 'is_Drama', 'is_Action', 'is_Crime', 'is_Thriller',\n",
       "       'is_Horror', 'is_History', 'is_Science Fiction', 'is_Mystery', 'is_War',\n",
       "       'is_Foreign', 'is_Music', 'is_Documentary', 'is_Western', 'is_TV Movie',\n",
       "       'is_english', 'is_Friday', 'is_Holiday'],\n",
       "      dtype='object')"
      ]
     },
     "execution_count": 2,
     "metadata": {},
     "output_type": "execute_result"
    }
   ],
   "source": [
    "df = pd. read_csv('engineered_data.csv')\n",
    "md=df\n",
    "df.columns"
   ]
  },
  {
   "cell_type": "markdown",
   "id": "a0a3a1d6",
   "metadata": {},
   "source": [
    "\n",
    "Weighted Rating (WR) = (v/v + m) * R + (m/v + m) * C\n",
    "\n",
    "where,\n",
    "\n",
    "v is the number of votes for the movie\n",
    "m is the minimum votes required for chart inclusion\n",
    "R is the average rating of the movie\n",
    "C is the mean vote across the entire dataset\n",
    "\n",
    "The next step involves determining a suitable value for m, the minimum votes needed for chart inclusion. The 95th percentile is chosen as the cutoff, meaning a movie must have more votes than at least 95% of the movies in the list to feature in the charts.\n",
    "\n",
    "The process begins with constructing the overall Top 250 Chart, followed by the creation of a function to build charts for specific genres. Let's get started!"
   ]
  },
  {
   "cell_type": "code",
   "execution_count": 3,
   "id": "81a32aec",
   "metadata": {},
   "outputs": [
    {
     "data": {
      "text/plain": [
       "5.24516242394957"
      ]
     },
     "execution_count": 3,
     "metadata": {},
     "output_type": "execute_result"
    }
   ],
   "source": [
    "vote_counts = md[md['vote_count'].notnull()]['vote_count'].astype('int')\n",
    "vote_averages = md[md['vote_average'].notnull()]['vote_average'].astype('int')\n",
    "C = vote_averages.mean()\n",
    "C"
   ]
  },
  {
   "cell_type": "code",
   "execution_count": 4,
   "id": "8a1541ca",
   "metadata": {},
   "outputs": [
    {
     "data": {
      "text/plain": [
       "433.0"
      ]
     },
     "execution_count": 4,
     "metadata": {},
     "output_type": "execute_result"
    }
   ],
   "source": [
    "m = vote_counts.quantile(0.95)\n",
    "m"
   ]
  },
  {
   "cell_type": "code",
   "execution_count": 5,
   "id": "502d4814",
   "metadata": {},
   "outputs": [],
   "source": [
    "#md['year'] = pd.to_datetime(md['release_date'], errors='coerce').apply(lambda x: str(x).split('-')[0] if x != np.nan else np.nan)"
   ]
  },
  {
   "cell_type": "code",
   "execution_count": 6,
   "id": "4432ab15",
   "metadata": {},
   "outputs": [
    {
     "name": "stdout",
     "output_type": "stream",
     "text": [
      "(2282, 7)\n"
     ]
    }
   ],
   "source": [
    "qualified = md[(md['vote_count'] >= m) & (md['vote_count'].notnull()) & \n",
    "               (md['vote_average'].notnull())][['title','overview', 'release_date', \n",
    "                                                'vote_count', 'vote_average', 'popularity', 'genres']]\n",
    "\n",
    "qualified['vote_count'] = qualified['vote_count'].astype('int')\n",
    "qualified['vote_average'] = qualified['vote_average'].astype('int')\n",
    "print(qualified.shape)"
   ]
  },
  {
   "cell_type": "markdown",
   "id": "09e13720",
   "metadata": {},
   "source": [
    "Therefore, to qualify to be considered for the chart, a movie has to have at least 433 votes on TMDB. We also see that the average rating for a movie on TMDB is 5.245 on a scale of 10. \n",
    "\n",
    "overall 2282 Movies qualify to be on our chart."
   ]
  },
  {
   "cell_type": "code",
   "execution_count": 7,
   "id": "c3eb48c2",
   "metadata": {},
   "outputs": [],
   "source": [
    "def weighted_rating(x, m=m, C=C):\n",
    "    v = x['vote_count']\n",
    "    R = x['vote_average']\n",
    "    return (v / (v + m) * R) + (m / (m + v) * C)"
   ]
  },
  {
   "cell_type": "code",
   "execution_count": 8,
   "id": "27c8ffe7",
   "metadata": {},
   "outputs": [],
   "source": [
    "qualified['wr'] = qualified.apply(weighted_rating, m=m, C=C, axis=1)"
   ]
  },
  {
   "cell_type": "code",
   "execution_count": 9,
   "id": "a30c24dd",
   "metadata": {},
   "outputs": [],
   "source": [
    "qualified = qualified.sort_values('wr', ascending=False).head(250)"
   ]
  },
  {
   "cell_type": "markdown",
   "id": "f4539b14",
   "metadata": {},
   "source": [
    "### Top Movies"
   ]
  },
  {
   "cell_type": "code",
   "execution_count": 10,
   "id": "4b3c086c",
   "metadata": {},
   "outputs": [
    {
     "data": {
      "text/html": [
       "<div>\n",
       "<style scoped>\n",
       "    .dataframe tbody tr th:only-of-type {\n",
       "        vertical-align: middle;\n",
       "    }\n",
       "\n",
       "    .dataframe tbody tr th {\n",
       "        vertical-align: top;\n",
       "    }\n",
       "\n",
       "    .dataframe thead th {\n",
       "        text-align: right;\n",
       "    }\n",
       "</style>\n",
       "<table border=\"1\" class=\"dataframe\">\n",
       "  <thead>\n",
       "    <tr style=\"text-align: right;\">\n",
       "      <th></th>\n",
       "      <th>title</th>\n",
       "      <th>overview</th>\n",
       "      <th>release_date</th>\n",
       "      <th>vote_count</th>\n",
       "      <th>vote_average</th>\n",
       "      <th>popularity</th>\n",
       "      <th>genres</th>\n",
       "      <th>wr</th>\n",
       "    </tr>\n",
       "  </thead>\n",
       "  <tbody>\n",
       "    <tr>\n",
       "      <th>15545</th>\n",
       "      <td>Inception</td>\n",
       "      <td>Cobb, a skilled thief who commits corporate es...</td>\n",
       "      <td>2010-07-14</td>\n",
       "      <td>14075</td>\n",
       "      <td>8</td>\n",
       "      <td>29.108149</td>\n",
       "      <td>5</td>\n",
       "      <td>7.917780</td>\n",
       "    </tr>\n",
       "    <tr>\n",
       "      <th>12525</th>\n",
       "      <td>The Dark Knight</td>\n",
       "      <td>Batman raises the stakes in his war on crime. ...</td>\n",
       "      <td>2008-07-16</td>\n",
       "      <td>12269</td>\n",
       "      <td>8</td>\n",
       "      <td>123.167259</td>\n",
       "      <td>4</td>\n",
       "      <td>7.906090</td>\n",
       "    </tr>\n",
       "    <tr>\n",
       "      <th>22949</th>\n",
       "      <td>Interstellar</td>\n",
       "      <td>Interstellar chronicles the adventures of a gr...</td>\n",
       "      <td>2014-11-05</td>\n",
       "      <td>11187</td>\n",
       "      <td>8</td>\n",
       "      <td>32.213481</td>\n",
       "      <td>3</td>\n",
       "      <td>7.897346</td>\n",
       "    </tr>\n",
       "    <tr>\n",
       "      <th>2854</th>\n",
       "      <td>Fight Club</td>\n",
       "      <td>A ticking-time-bomb insomniac and a slippery s...</td>\n",
       "      <td>1999-10-15</td>\n",
       "      <td>9678</td>\n",
       "      <td>8</td>\n",
       "      <td>63.869599</td>\n",
       "      <td>1</td>\n",
       "      <td>7.882025</td>\n",
       "    </tr>\n",
       "    <tr>\n",
       "      <th>4880</th>\n",
       "      <td>The Lord of the Rings: The Fellowship of the Ring</td>\n",
       "      <td>Young hobbit Frodo Baggins, after inheriting a...</td>\n",
       "      <td>2001-12-18</td>\n",
       "      <td>8892</td>\n",
       "      <td>8</td>\n",
       "      <td>32.070725</td>\n",
       "      <td>3</td>\n",
       "      <td>7.872081</td>\n",
       "    </tr>\n",
       "    <tr>\n",
       "      <th>292</th>\n",
       "      <td>Pulp Fiction</td>\n",
       "      <td>A burger-loving hit man, his philosophical par...</td>\n",
       "      <td>1994-09-10</td>\n",
       "      <td>8670</td>\n",
       "      <td>8</td>\n",
       "      <td>140.950236</td>\n",
       "      <td>2</td>\n",
       "      <td>7.868961</td>\n",
       "    </tr>\n",
       "    <tr>\n",
       "      <th>314</th>\n",
       "      <td>The Shawshank Redemption</td>\n",
       "      <td>Framed in the 1940s for the double murder of h...</td>\n",
       "      <td>1994-09-23</td>\n",
       "      <td>8358</td>\n",
       "      <td>8</td>\n",
       "      <td>51.645403</td>\n",
       "      <td>2</td>\n",
       "      <td>7.864311</td>\n",
       "    </tr>\n",
       "    <tr>\n",
       "      <th>7029</th>\n",
       "      <td>The Lord of the Rings: The Return of the King</td>\n",
       "      <td>Aragorn is revealed as the heir to the ancient...</td>\n",
       "      <td>2003-12-01</td>\n",
       "      <td>8226</td>\n",
       "      <td>8</td>\n",
       "      <td>29.324358</td>\n",
       "      <td>3</td>\n",
       "      <td>7.862242</td>\n",
       "    </tr>\n",
       "    <tr>\n",
       "      <th>351</th>\n",
       "      <td>Forrest Gump</td>\n",
       "      <td>A man with a low IQ has accomplished great thi...</td>\n",
       "      <td>1994-07-06</td>\n",
       "      <td>8147</td>\n",
       "      <td>8</td>\n",
       "      <td>48.307194</td>\n",
       "      <td>3</td>\n",
       "      <td>7.860974</td>\n",
       "    </tr>\n",
       "    <tr>\n",
       "      <th>5840</th>\n",
       "      <td>The Lord of the Rings: The Two Towers</td>\n",
       "      <td>Frodo and Sam are trekking to Mordor to destro...</td>\n",
       "      <td>2002-12-18</td>\n",
       "      <td>7641</td>\n",
       "      <td>8</td>\n",
       "      <td>29.423537</td>\n",
       "      <td>3</td>\n",
       "      <td>7.852261</td>\n",
       "    </tr>\n",
       "  </tbody>\n",
       "</table>\n",
       "</div>"
      ],
      "text/plain": [
       "                                                   title  \\\n",
       "15545                                          Inception   \n",
       "12525                                    The Dark Knight   \n",
       "22949                                       Interstellar   \n",
       "2854                                          Fight Club   \n",
       "4880   The Lord of the Rings: The Fellowship of the Ring   \n",
       "292                                         Pulp Fiction   \n",
       "314                             The Shawshank Redemption   \n",
       "7029       The Lord of the Rings: The Return of the King   \n",
       "351                                         Forrest Gump   \n",
       "5840               The Lord of the Rings: The Two Towers   \n",
       "\n",
       "                                                overview release_date  \\\n",
       "15545  Cobb, a skilled thief who commits corporate es...   2010-07-14   \n",
       "12525  Batman raises the stakes in his war on crime. ...   2008-07-16   \n",
       "22949  Interstellar chronicles the adventures of a gr...   2014-11-05   \n",
       "2854   A ticking-time-bomb insomniac and a slippery s...   1999-10-15   \n",
       "4880   Young hobbit Frodo Baggins, after inheriting a...   2001-12-18   \n",
       "292    A burger-loving hit man, his philosophical par...   1994-09-10   \n",
       "314    Framed in the 1940s for the double murder of h...   1994-09-23   \n",
       "7029   Aragorn is revealed as the heir to the ancient...   2003-12-01   \n",
       "351    A man with a low IQ has accomplished great thi...   1994-07-06   \n",
       "5840   Frodo and Sam are trekking to Mordor to destro...   2002-12-18   \n",
       "\n",
       "       vote_count  vote_average  popularity  genres        wr  \n",
       "15545       14075             8   29.108149       5  7.917780  \n",
       "12525       12269             8  123.167259       4  7.906090  \n",
       "22949       11187             8   32.213481       3  7.897346  \n",
       "2854         9678             8   63.869599       1  7.882025  \n",
       "4880         8892             8   32.070725       3  7.872081  \n",
       "292          8670             8  140.950236       2  7.868961  \n",
       "314          8358             8   51.645403       2  7.864311  \n",
       "7029         8226             8   29.324358       3  7.862242  \n",
       "351          8147             8   48.307194       3  7.860974  \n",
       "5840         7641             8   29.423537       3  7.852261  "
      ]
     },
     "execution_count": 10,
     "metadata": {},
     "output_type": "execute_result"
    }
   ],
   "source": [
    "qualified.head(10)"
   ]
  },
  {
   "cell_type": "markdown",
   "id": "3df6aa81",
   "metadata": {},
   "source": [
    "### Movies based on Popularity"
   ]
  },
  {
   "cell_type": "code",
   "execution_count": 11,
   "id": "a623543f",
   "metadata": {},
   "outputs": [
    {
     "data": {
      "image/png": "[encoded data removed]",
      "text/plain": [
       "<Figure size 1200x400 with 1 Axes>"
      ]
     },
     "metadata": {},
     "output_type": "display_data"
    }
   ],
   "source": [
    "pop = md.sort_values('popularity', ascending=False)\n",
    "\n",
    "plt.figure(figsize=(12, 4))\n",
    "\n",
    "plt.barh(pop['title'].head(10), pop['popularity'].head(10), align='center', color='skyblue')\n",
    "plt.gca().invert_yaxis()\n",
    "plt.xlabel(\"Popularity\")\n",
    "plt.title(\"Popular Movies\")\n",
    "\n",
    "plt.show()"
   ]
  },
  {
   "cell_type": "markdown",
   "id": "dae0b92b",
   "metadata": {},
   "source": [
    "#### Now something to keep in mind is that these demographic recommender provide a general chart of recommended movies to all the users. They are not sensitive to the interests and tastes of a particular user. This is when we move on to a more refined system- Content Basesd Filtering."
   ]
  },
  {
   "cell_type": "code",
   "execution_count": 12,
   "id": "519dc8a9",
   "metadata": {},
   "outputs": [],
   "source": [
    "# s = md.apply(lambda x: pd.Series(x['genres']), axis=1).stack().reset_index(level=1, drop=True)\n",
    "# s.name = 'genre'\n",
    "# gen_md = md.drop('genres', axis=1).join(s)"
   ]
  },
  {
   "cell_type": "code",
   "execution_count": 13,
   "id": "f36ad51d",
   "metadata": {},
   "outputs": [],
   "source": [
    "def build_chart(genre_column, percentile=0.85):\n",
    "    df = md[md[genre_column] == 1]\n",
    "    vote_counts = df[df['vote_count'].notnull()]['vote_count'].astype('int')\n",
    "    vote_averages = df[df['vote_average'].notnull()]['vote_average'].astype('int')\n",
    "    C = vote_averages.mean()\n",
    "    m = vote_counts.quantile(percentile)\n",
    "    \n",
    "    qualified = df[(df['vote_count'] >= m) & (df['vote_count'].notnull()) & \n",
    "                   (df['vote_average'].notnull())][['title','overview', 'release_date', 'vote_count', \n",
    "                                                    'vote_average', 'popularity']]\n",
    "    \n",
    "    qualified['vote_count'] = qualified['vote_count'].astype('int')\n",
    "    qualified['vote_average'] = qualified['vote_average'].astype('int')\n",
    "    \n",
    "    qualified['wr'] = qualified.apply(lambda x: (x['vote_count']/(x['vote_count']+m) * x['vote_average']) + \n",
    "                                      (m/(m+x['vote_count']) * C), axis=1)\n",
    "    \n",
    "    qualified = qualified.sort_values('wr', ascending=False).head(15)\n",
    "    \n",
    "    return qualified"
   ]
  },
  {
   "cell_type": "code",
   "execution_count": 14,
   "id": "45cc2ee8",
   "metadata": {},
   "outputs": [],
   "source": [
    "def get_top_movie_poster(genre_column, percentile=0.85):\n",
    "    df = md[md[genre_column] == 1]\n",
    "    vote_counts = df[df['vote_count'].notnull()]['vote_count'].astype('int')\n",
    "    vote_averages = df[df['vote_average'].notnull()]['vote_average'].astype('int')\n",
    "    C = vote_averages.mean()\n",
    "    m = vote_counts.quantile(percentile)\n",
    "    \n",
    "    qualified = df[(df['vote_count'] >= m) & (df['vote_count'].notnull()) & \n",
    "                   (df['vote_average'].notnull())][['poster_path', 'vote_count', 'vote_average']]\n",
    "    \n",
    "    qualified['vote_count'] = qualified['vote_count'].astype('int')\n",
    "    qualified['vote_average'] = qualified['vote_average'].astype('int')\n",
    "    \n",
    "    qualified['wr'] = (qualified['vote_count']/(qualified['vote_count']+m) * \n",
    "                       qualified['vote_average']) + (m/(m+qualified['vote_count']) * C)\n",
    "    \n",
    "    top_movie = qualified.sort_values('wr', ascending=False).head(1)\n",
    "    poster_path = top_movie['poster_path'].iloc[0]\n",
    "    \n",
    "    # Fetch the image from the URL\n",
    "    image_url = f\"http://image.tmdb.org/t/p/w185/{poster_path}\"\n",
    "    response = requests.get(image_url)\n",
    "    \n",
    "    # Display the image\n",
    "    if response.status_code == 200:\n",
    "        display(Image(response.content, width=100))\n",
    "    else:\n",
    "        print(\"Failed to retrieve image.\")\n",
    "\n",
    "    return poster_path"
   ]
  },
  {
   "cell_type": "markdown",
   "id": "71299d32",
   "metadata": {},
   "source": [
    "Let us see our method in action by displaying the Top 15 Romance Movies (Romance almost didn't feature at all in our Generic Top Chart despite being one of the most popular movie genres)."
   ]
  },
  {
   "cell_type": "markdown",
   "id": "e52b16cf",
   "metadata": {},
   "source": [
    "### Top Romance Movies"
   ]
  },
  {
   "cell_type": "code",
   "execution_count": 15,
   "id": "9093d9e8",
   "metadata": {},
   "outputs": [
    {
     "data": {
      "text/html": [
       "<div>\n",
       "<style scoped>\n",
       "    .dataframe tbody tr th:only-of-type {\n",
       "        vertical-align: middle;\n",
       "    }\n",
       "\n",
       "    .dataframe tbody tr th {\n",
       "        vertical-align: top;\n",
       "    }\n",
       "\n",
       "    .dataframe thead th {\n",
       "        text-align: right;\n",
       "    }\n",
       "</style>\n",
       "<table border=\"1\" class=\"dataframe\">\n",
       "  <thead>\n",
       "    <tr style=\"text-align: right;\">\n",
       "      <th></th>\n",
       "      <th>title</th>\n",
       "      <th>overview</th>\n",
       "      <th>release_date</th>\n",
       "      <th>vote_count</th>\n",
       "      <th>vote_average</th>\n",
       "      <th>popularity</th>\n",
       "      <th>wr</th>\n",
       "    </tr>\n",
       "  </thead>\n",
       "  <tbody>\n",
       "    <tr>\n",
       "      <th>10345</th>\n",
       "      <td>Dilwale Dulhania Le Jayenge</td>\n",
       "      <td>Raj is a rich, carefree, happy-go-lucky second...</td>\n",
       "      <td>1995-10-20</td>\n",
       "      <td>661</td>\n",
       "      <td>9</td>\n",
       "      <td>34.457024</td>\n",
       "      <td>8.564746</td>\n",
       "    </tr>\n",
       "    <tr>\n",
       "      <th>351</th>\n",
       "      <td>Forrest Gump</td>\n",
       "      <td>A man with a low IQ has accomplished great thi...</td>\n",
       "      <td>1994-07-06</td>\n",
       "      <td>8147</td>\n",
       "      <td>8</td>\n",
       "      <td>48.307194</td>\n",
       "      <td>7.971314</td>\n",
       "    </tr>\n",
       "    <tr>\n",
       "      <th>882</th>\n",
       "      <td>Vertigo</td>\n",
       "      <td>A retired San Francisco detective suffering fr...</td>\n",
       "      <td>1958-05-09</td>\n",
       "      <td>1162</td>\n",
       "      <td>8</td>\n",
       "      <td>18.208220</td>\n",
       "      <td>7.811404</td>\n",
       "    </tr>\n",
       "    <tr>\n",
       "      <th>40322</th>\n",
       "      <td>Your Name.</td>\n",
       "      <td>High schoolers Mitsuha and Taki are complete s...</td>\n",
       "      <td>2016-08-26</td>\n",
       "      <td>1030</td>\n",
       "      <td>8</td>\n",
       "      <td>34.461252</td>\n",
       "      <td>7.789196</td>\n",
       "    </tr>\n",
       "    <tr>\n",
       "      <th>889</th>\n",
       "      <td>Some Like It Hot</td>\n",
       "      <td>Two musicians witness a mob hit and struggle t...</td>\n",
       "      <td>1959-03-18</td>\n",
       "      <td>835</td>\n",
       "      <td>8</td>\n",
       "      <td>11.845107</td>\n",
       "      <td>7.744804</td>\n",
       "    </tr>\n",
       "    <tr>\n",
       "      <th>1141</th>\n",
       "      <td>Cinema Paradiso</td>\n",
       "      <td>A filmmaker recalls his childhood, when he fel...</td>\n",
       "      <td>1988-11-17</td>\n",
       "      <td>834</td>\n",
       "      <td>8</td>\n",
       "      <td>14.177005</td>\n",
       "      <td>7.744528</td>\n",
       "    </tr>\n",
       "    <tr>\n",
       "      <th>19974</th>\n",
       "      <td>Paperman</td>\n",
       "      <td>An urban office worker finds that paper airpla...</td>\n",
       "      <td>2012-11-02</td>\n",
       "      <td>734</td>\n",
       "      <td>8</td>\n",
       "      <td>7.198633</td>\n",
       "      <td>7.713562</td>\n",
       "    </tr>\n",
       "    <tr>\n",
       "      <th>37938</th>\n",
       "      <td>Sing Street</td>\n",
       "      <td>A boy growing up in Dublin during the 1980s es...</td>\n",
       "      <td>2016-03-11</td>\n",
       "      <td>669</td>\n",
       "      <td>8</td>\n",
       "      <td>10.672862</td>\n",
       "      <td>7.689064</td>\n",
       "    </tr>\n",
       "    <tr>\n",
       "      <th>888</th>\n",
       "      <td>The Apartment</td>\n",
       "      <td>Bud Baxter is a minor clerk in a huge New York...</td>\n",
       "      <td>1960-06-15</td>\n",
       "      <td>498</td>\n",
       "      <td>8</td>\n",
       "      <td>11.994281</td>\n",
       "      <td>7.598792</td>\n",
       "    </tr>\n",
       "    <tr>\n",
       "      <th>38793</th>\n",
       "      <td>The Handmaiden</td>\n",
       "      <td>1930s Korea, in the period of Japanese occupat...</td>\n",
       "      <td>2016-06-01</td>\n",
       "      <td>453</td>\n",
       "      <td>8</td>\n",
       "      <td>16.727405</td>\n",
       "      <td>7.565604</td>\n",
       "    </tr>\n",
       "  </tbody>\n",
       "</table>\n",
       "</div>"
      ],
      "text/plain": [
       "                             title  \\\n",
       "10345  Dilwale Dulhania Le Jayenge   \n",
       "351                   Forrest Gump   \n",
       "882                        Vertigo   \n",
       "40322                   Your Name.   \n",
       "889               Some Like It Hot   \n",
       "1141               Cinema Paradiso   \n",
       "19974                     Paperman   \n",
       "37938                  Sing Street   \n",
       "888                  The Apartment   \n",
       "38793               The Handmaiden   \n",
       "\n",
       "                                                overview release_date  \\\n",
       "10345  Raj is a rich, carefree, happy-go-lucky second...   1995-10-20   \n",
       "351    A man with a low IQ has accomplished great thi...   1994-07-06   \n",
       "882    A retired San Francisco detective suffering fr...   1958-05-09   \n",
       "40322  High schoolers Mitsuha and Taki are complete s...   2016-08-26   \n",
       "889    Two musicians witness a mob hit and struggle t...   1959-03-18   \n",
       "1141   A filmmaker recalls his childhood, when he fel...   1988-11-17   \n",
       "19974  An urban office worker finds that paper airpla...   2012-11-02   \n",
       "37938  A boy growing up in Dublin during the 1980s es...   2016-03-11   \n",
       "888    Bud Baxter is a minor clerk in a huge New York...   1960-06-15   \n",
       "38793  1930s Korea, in the period of Japanese occupat...   2016-06-01   \n",
       "\n",
       "       vote_count  vote_average  popularity        wr  \n",
       "10345         661             9   34.457024  8.564746  \n",
       "351          8147             8   48.307194  7.971314  \n",
       "882          1162             8   18.208220  7.811404  \n",
       "40322        1030             8   34.461252  7.789196  \n",
       "889           835             8   11.845107  7.744804  \n",
       "1141          834             8   14.177005  7.744528  \n",
       "19974         734             8    7.198633  7.713562  \n",
       "37938         669             8   10.672862  7.689064  \n",
       "888           498             8   11.994281  7.598792  \n",
       "38793         453             8   16.727405  7.565604  "
      ]
     },
     "execution_count": 15,
     "metadata": {},
     "output_type": "execute_result"
    }
   ],
   "source": [
    "build_chart('is_Romance').head(10)"
   ]
  },
  {
   "cell_type": "code",
   "execution_count": 16,
   "id": "2cd8b256",
   "metadata": {},
   "outputs": [
    {
     "data": {
      "image/jpeg": "[encoded data removed]",
      "text/plain": [
       "<IPython.core.display.Image object>"
      ]
     },
     "metadata": {
      "image/jpeg": {
       "width": 100
      }
     },
     "output_type": "display_data"
    },
    {
     "data": {
      "text/plain": [
       "\"<img src='http://image.tmdb.org/t/p/w185//2gvbZMtV1Zsl7FedJa5ysbpBx2G.jpg' style='height:100px;'>\""
      ]
     },
     "execution_count": 16,
     "metadata": {},
     "output_type": "execute_result"
    }
   ],
   "source": [
    "get_top_movie_poster('is_Romance')"
   ]
  },
  {
   "cell_type": "markdown",
   "id": "75553726",
   "metadata": {},
   "source": [
    "The top romance movie according to our metrics is Bollywood's Dilwale Dulhania Le Jayenge. This Shahrukh Khan starrer also happens to be one of my personal favorites."
   ]
  },
  {
   "cell_type": "code",
   "execution_count": 17,
   "id": "1f2d0db7",
   "metadata": {},
   "outputs": [
    {
     "data": {
      "text/html": [
       "<div>\n",
       "<style scoped>\n",
       "    .dataframe tbody tr th:only-of-type {\n",
       "        vertical-align: middle;\n",
       "    }\n",
       "\n",
       "    .dataframe tbody tr th {\n",
       "        vertical-align: top;\n",
       "    }\n",
       "\n",
       "    .dataframe thead th {\n",
       "        text-align: right;\n",
       "    }\n",
       "</style>\n",
       "<table border=\"1\" class=\"dataframe\">\n",
       "  <thead>\n",
       "    <tr style=\"text-align: right;\">\n",
       "      <th></th>\n",
       "      <th>title</th>\n",
       "      <th>overview</th>\n",
       "      <th>release_date</th>\n",
       "      <th>vote_count</th>\n",
       "      <th>vote_average</th>\n",
       "      <th>popularity</th>\n",
       "      <th>wr</th>\n",
       "    </tr>\n",
       "  </thead>\n",
       "  <tbody>\n",
       "    <tr>\n",
       "      <th>359</th>\n",
       "      <td>The Lion King</td>\n",
       "      <td>A young lion cub named Simba can't wait to be ...</td>\n",
       "      <td>1994-06-23</td>\n",
       "      <td>5520</td>\n",
       "      <td>8</td>\n",
       "      <td>21.605761</td>\n",
       "      <td>7.910398</td>\n",
       "    </tr>\n",
       "    <tr>\n",
       "      <th>5501</th>\n",
       "      <td>Spirited Away</td>\n",
       "      <td>A ten year old girl who wanders away from her ...</td>\n",
       "      <td>2001-07-20</td>\n",
       "      <td>3968</td>\n",
       "      <td>8</td>\n",
       "      <td>41.048867</td>\n",
       "      <td>7.877358</td>\n",
       "    </tr>\n",
       "    <tr>\n",
       "      <th>9734</th>\n",
       "      <td>Howl's Moving Castle</td>\n",
       "      <td>When Sophie, a shy young woman, is cursed with...</td>\n",
       "      <td>2004-11-19</td>\n",
       "      <td>2049</td>\n",
       "      <td>8</td>\n",
       "      <td>16.136048</td>\n",
       "      <td>7.774586</td>\n",
       "    </tr>\n",
       "    <tr>\n",
       "      <th>2895</th>\n",
       "      <td>Princess Mononoke</td>\n",
       "      <td>Ashitaka, a prince of the disappearing Ainu tr...</td>\n",
       "      <td>1997-07-12</td>\n",
       "      <td>2041</td>\n",
       "      <td>8</td>\n",
       "      <td>17.166725</td>\n",
       "      <td>7.773796</td>\n",
       "    </tr>\n",
       "    <tr>\n",
       "      <th>5859</th>\n",
       "      <td>My Neighbor Totoro</td>\n",
       "      <td>Two sisters move to the country with their fat...</td>\n",
       "      <td>1988-04-16</td>\n",
       "      <td>1730</td>\n",
       "      <td>8</td>\n",
       "      <td>13.507299</td>\n",
       "      <td>7.738103</td>\n",
       "    </tr>\n",
       "    <tr>\n",
       "      <th>40322</th>\n",
       "      <td>Your Name.</td>\n",
       "      <td>High schoolers Mitsuha and Taki are complete s...</td>\n",
       "      <td>2016-08-26</td>\n",
       "      <td>1030</td>\n",
       "      <td>8</td>\n",
       "      <td>34.461252</td>\n",
       "      <td>7.593864</td>\n",
       "    </tr>\n",
       "    <tr>\n",
       "      <th>5576</th>\n",
       "      <td>Grave of the Fireflies</td>\n",
       "      <td>In the latter part of World War II, a boy and ...</td>\n",
       "      <td>1988-04-16</td>\n",
       "      <td>974</td>\n",
       "      <td>8</td>\n",
       "      <td>0.010902</td>\n",
       "      <td>7.575145</td>\n",
       "    </tr>\n",
       "    <tr>\n",
       "      <th>19974</th>\n",
       "      <td>Paperman</td>\n",
       "      <td>An urban office worker finds that paper airpla...</td>\n",
       "      <td>2012-11-02</td>\n",
       "      <td>734</td>\n",
       "      <td>8</td>\n",
       "      <td>7.198633</td>\n",
       "      <td>7.470566</td>\n",
       "    </tr>\n",
       "    <tr>\n",
       "      <th>39460</th>\n",
       "      <td>Piper</td>\n",
       "      <td>A mother bird tries to teach her little one ho...</td>\n",
       "      <td>2016-06-16</td>\n",
       "      <td>487</td>\n",
       "      <td>8</td>\n",
       "      <td>11.243161</td>\n",
       "      <td>7.290936</td>\n",
       "    </tr>\n",
       "    <tr>\n",
       "      <th>20855</th>\n",
       "      <td>Wolf Children</td>\n",
       "      <td>Hana, a nineteen-year-old college student, fal...</td>\n",
       "      <td>2012-07-21</td>\n",
       "      <td>483</td>\n",
       "      <td>8</td>\n",
       "      <td>10.249498</td>\n",
       "      <td>7.287019</td>\n",
       "    </tr>\n",
       "  </tbody>\n",
       "</table>\n",
       "</div>"
      ],
      "text/plain": [
       "                        title  \\\n",
       "359             The Lion King   \n",
       "5501            Spirited Away   \n",
       "9734     Howl's Moving Castle   \n",
       "2895        Princess Mononoke   \n",
       "5859       My Neighbor Totoro   \n",
       "40322              Your Name.   \n",
       "5576   Grave of the Fireflies   \n",
       "19974                Paperman   \n",
       "39460                   Piper   \n",
       "20855           Wolf Children   \n",
       "\n",
       "                                                overview release_date  \\\n",
       "359    A young lion cub named Simba can't wait to be ...   1994-06-23   \n",
       "5501   A ten year old girl who wanders away from her ...   2001-07-20   \n",
       "9734   When Sophie, a shy young woman, is cursed with...   2004-11-19   \n",
       "2895   Ashitaka, a prince of the disappearing Ainu tr...   1997-07-12   \n",
       "5859   Two sisters move to the country with their fat...   1988-04-16   \n",
       "40322  High schoolers Mitsuha and Taki are complete s...   2016-08-26   \n",
       "5576   In the latter part of World War II, a boy and ...   1988-04-16   \n",
       "19974  An urban office worker finds that paper airpla...   2012-11-02   \n",
       "39460  A mother bird tries to teach her little one ho...   2016-06-16   \n",
       "20855  Hana, a nineteen-year-old college student, fal...   2012-07-21   \n",
       "\n",
       "       vote_count  vote_average  popularity        wr  \n",
       "359          5520             8   21.605761  7.910398  \n",
       "5501         3968             8   41.048867  7.877358  \n",
       "9734         2049             8   16.136048  7.774586  \n",
       "2895         2041             8   17.166725  7.773796  \n",
       "5859         1730             8   13.507299  7.738103  \n",
       "40322        1030             8   34.461252  7.593864  \n",
       "5576          974             8    0.010902  7.575145  \n",
       "19974         734             8    7.198633  7.470566  \n",
       "39460         487             8   11.243161  7.290936  \n",
       "20855         483             8   10.249498  7.287019  "
      ]
     },
     "execution_count": 17,
     "metadata": {},
     "output_type": "execute_result"
    }
   ],
   "source": [
    "build_chart('is_Animation').head(10)"
   ]
  },
  {
   "cell_type": "code",
   "execution_count": 18,
   "id": "898f92e4",
   "metadata": {},
   "outputs": [
    {
     "data": {
      "text/html": [
       "<div>\n",
       "<style scoped>\n",
       "    .dataframe tbody tr th:only-of-type {\n",
       "        vertical-align: middle;\n",
       "    }\n",
       "\n",
       "    .dataframe tbody tr th {\n",
       "        vertical-align: top;\n",
       "    }\n",
       "\n",
       "    .dataframe thead th {\n",
       "        text-align: right;\n",
       "    }\n",
       "</style>\n",
       "<table border=\"1\" class=\"dataframe\">\n",
       "  <thead>\n",
       "    <tr style=\"text-align: right;\">\n",
       "      <th></th>\n",
       "      <th>title</th>\n",
       "      <th>overview</th>\n",
       "      <th>release_date</th>\n",
       "      <th>vote_count</th>\n",
       "      <th>vote_average</th>\n",
       "      <th>popularity</th>\n",
       "      <th>wr</th>\n",
       "    </tr>\n",
       "  </thead>\n",
       "  <tbody>\n",
       "    <tr>\n",
       "      <th>15545</th>\n",
       "      <td>Inception</td>\n",
       "      <td>Cobb, a skilled thief who commits corporate es...</td>\n",
       "      <td>2010-07-14</td>\n",
       "      <td>14075</td>\n",
       "      <td>8</td>\n",
       "      <td>29.108149</td>\n",
       "      <td>7.955096</td>\n",
       "    </tr>\n",
       "    <tr>\n",
       "      <th>12525</th>\n",
       "      <td>The Dark Knight</td>\n",
       "      <td>Batman raises the stakes in his war on crime. ...</td>\n",
       "      <td>2008-07-16</td>\n",
       "      <td>12269</td>\n",
       "      <td>8</td>\n",
       "      <td>123.167259</td>\n",
       "      <td>7.948607</td>\n",
       "    </tr>\n",
       "    <tr>\n",
       "      <th>4880</th>\n",
       "      <td>The Lord of the Rings: The Fellowship of the Ring</td>\n",
       "      <td>Young hobbit Frodo Baggins, after inheriting a...</td>\n",
       "      <td>2001-12-18</td>\n",
       "      <td>8892</td>\n",
       "      <td>8</td>\n",
       "      <td>32.070725</td>\n",
       "      <td>7.929574</td>\n",
       "    </tr>\n",
       "    <tr>\n",
       "      <th>7029</th>\n",
       "      <td>The Lord of the Rings: The Return of the King</td>\n",
       "      <td>Aragorn is revealed as the heir to the ancient...</td>\n",
       "      <td>2003-12-01</td>\n",
       "      <td>8226</td>\n",
       "      <td>8</td>\n",
       "      <td>29.324358</td>\n",
       "      <td>7.924026</td>\n",
       "    </tr>\n",
       "    <tr>\n",
       "      <th>5840</th>\n",
       "      <td>The Lord of the Rings: The Two Towers</td>\n",
       "      <td>Frodo and Sam are trekking to Mordor to destro...</td>\n",
       "      <td>2002-12-18</td>\n",
       "      <td>7641</td>\n",
       "      <td>8</td>\n",
       "      <td>29.423537</td>\n",
       "      <td>7.918377</td>\n",
       "    </tr>\n",
       "    <tr>\n",
       "      <th>256</th>\n",
       "      <td>Star Wars</td>\n",
       "      <td>Princess Leia is captured and held hostage by ...</td>\n",
       "      <td>1977-05-25</td>\n",
       "      <td>6778</td>\n",
       "      <td>8</td>\n",
       "      <td>42.149697</td>\n",
       "      <td>7.908321</td>\n",
       "    </tr>\n",
       "    <tr>\n",
       "      <th>1163</th>\n",
       "      <td>The Empire Strikes Back</td>\n",
       "      <td>The epic saga continues as Luke Skywalker, in ...</td>\n",
       "      <td>1980-05-17</td>\n",
       "      <td>5998</td>\n",
       "      <td>8</td>\n",
       "      <td>19.470959</td>\n",
       "      <td>7.896834</td>\n",
       "    </tr>\n",
       "    <tr>\n",
       "      <th>4149</th>\n",
       "      <td>Scarface</td>\n",
       "      <td>After getting a green card in exchange for ass...</td>\n",
       "      <td>1983-12-08</td>\n",
       "      <td>3017</td>\n",
       "      <td>8</td>\n",
       "      <td>11.299673</td>\n",
       "      <td>7.802031</td>\n",
       "    </tr>\n",
       "    <tr>\n",
       "      <th>9463</th>\n",
       "      <td>Oldboy</td>\n",
       "      <td>With no clue how he came to be imprisoned, dru...</td>\n",
       "      <td>2003-01-01</td>\n",
       "      <td>2000</td>\n",
       "      <td>8</td>\n",
       "      <td>10.616859</td>\n",
       "      <td>7.711625</td>\n",
       "    </tr>\n",
       "    <tr>\n",
       "      <th>1918</th>\n",
       "      <td>Seven Samurai</td>\n",
       "      <td>A samurai answers a village's request for prot...</td>\n",
       "      <td>1954-04-26</td>\n",
       "      <td>892</td>\n",
       "      <td>8</td>\n",
       "      <td>15.017770</td>\n",
       "      <td>7.426085</td>\n",
       "    </tr>\n",
       "  </tbody>\n",
       "</table>\n",
       "</div>"
      ],
      "text/plain": [
       "                                                   title  \\\n",
       "15545                                          Inception   \n",
       "12525                                    The Dark Knight   \n",
       "4880   The Lord of the Rings: The Fellowship of the Ring   \n",
       "7029       The Lord of the Rings: The Return of the King   \n",
       "5840               The Lord of the Rings: The Two Towers   \n",
       "256                                            Star Wars   \n",
       "1163                             The Empire Strikes Back   \n",
       "4149                                            Scarface   \n",
       "9463                                              Oldboy   \n",
       "1918                                       Seven Samurai   \n",
       "\n",
       "                                                overview release_date  \\\n",
       "15545  Cobb, a skilled thief who commits corporate es...   2010-07-14   \n",
       "12525  Batman raises the stakes in his war on crime. ...   2008-07-16   \n",
       "4880   Young hobbit Frodo Baggins, after inheriting a...   2001-12-18   \n",
       "7029   Aragorn is revealed as the heir to the ancient...   2003-12-01   \n",
       "5840   Frodo and Sam are trekking to Mordor to destro...   2002-12-18   \n",
       "256    Princess Leia is captured and held hostage by ...   1977-05-25   \n",
       "1163   The epic saga continues as Luke Skywalker, in ...   1980-05-17   \n",
       "4149   After getting a green card in exchange for ass...   1983-12-08   \n",
       "9463   With no clue how he came to be imprisoned, dru...   2003-01-01   \n",
       "1918   A samurai answers a village's request for prot...   1954-04-26   \n",
       "\n",
       "       vote_count  vote_average  popularity        wr  \n",
       "15545       14075             8   29.108149  7.955096  \n",
       "12525       12269             8  123.167259  7.948607  \n",
       "4880         8892             8   32.070725  7.929574  \n",
       "7029         8226             8   29.324358  7.924026  \n",
       "5840         7641             8   29.423537  7.918377  \n",
       "256          6778             8   42.149697  7.908321  \n",
       "1163         5998             8   19.470959  7.896834  \n",
       "4149         3017             8   11.299673  7.802031  \n",
       "9463         2000             8   10.616859  7.711625  \n",
       "1918          892             8   15.017770  7.426085  "
      ]
     },
     "execution_count": 18,
     "metadata": {},
     "output_type": "execute_result"
    }
   ],
   "source": [
    "build_chart('is_Action').head(10)"
   ]
  },
  {
   "cell_type": "markdown",
   "id": "bd432a1e",
   "metadata": {},
   "source": [
    "in the above output of the three sets of movie recommendations represent different genres: Romance, Animation, and Action. Each set provides a list of highly-rated and popular movies in the respective genre.\n",
    "\n",
    "Romance Recommendations: The top recommendations include timeless classics like \"Dilwale Dulhania Le Jayenge\" and \"Forrest Gump,\" known for their heartwarming stories and memorable characters.\n",
    "\n",
    "Animation Recommendations: This list features beloved animated films such as \"The Lion King,\" \"Spirited Away,\" and \"Howl's Moving Castle,\" known for their captivating storytelling and stunning visuals.\n",
    "\n",
    "Action Recommendations: Fans of action-packed movies will enjoy titles like \"Inception,\" \"The Dark Knight,\" and \"The Lord of the Rings: The Fellowship of the Ring,\" renowned for their intense action sequences and gripping narratives.\n",
    "\n",
    "Overall, these recommendations showcase a diverse range of highly acclaimed movies across different genres, catering to various tastes and preferences. Whether you're in the mood for romance, animated adventure, or adrenaline-fueled action, there's something for everyone to enjoy."
   ]
  },
  {
   "cell_type": "markdown",
   "id": "d8910e62",
   "metadata": {},
   "source": [
    "<a class='anchor' id=\"cont_base\"></a>"
   ]
  },
  {
   "cell_type": "markdown",
   "id": "92083bff",
   "metadata": {},
   "source": [
    "# Content Based Recommender"
   ]
  },
  {
   "cell_type": "markdown",
   "id": "0bff07c0",
   "metadata": {},
   "source": [
    "The recommender system developed in the previous section has notable drawbacks. It provides the same recommendations to all users, disregarding individual preferences. For example, a person fond of romantic movies and disliking action films might not find the suggested movies appealing. Even when exploring genre-specific charts, the recommendations may not align with the user's specific taste.\n",
    "\n",
    "To address this limitation and enhance personalization, I will create a recommendation engine that calculates the similarity between movies based on various metrics. This approach, known as Content-Based Filtering, relies on movie metadata or content to generate recommendations. I will develop two Content-Based Recommenders focusing on:\n",
    "\n",
    "Movie Overviews and Taglines\n",
    "Movie Cast, Crew, Keywords, and Genre\n",
    "Due to computational constraints, I will work with a subset of the available movies. This approach aims to offer more tailored suggestions by considering content-related features."
   ]
  },
  {
   "cell_type": "code",
   "execution_count": 19,
   "id": "18413ad5",
   "metadata": {},
   "outputs": [],
   "source": [
    "subset_md = md.sample(n=10000, random_state=42)"
   ]
  },
  {
   "cell_type": "code",
   "execution_count": 20,
   "id": "1fca3003",
   "metadata": {},
   "outputs": [
    {
     "data": {
      "text/plain": [
       "8961     114524\n",
       "19709    122804\n",
       "31361     82626\n",
       "28639    165586\n",
       "7416      17956\n",
       "Name: id, dtype: int32"
      ]
     },
     "execution_count": 20,
     "metadata": {},
     "output_type": "execute_result"
    }
   ],
   "source": [
    "subset_md = subset_md[subset_md['id'].notnull()]['id'].astype('int')\n",
    "subset_md.head()"
   ]
  },
  {
   "cell_type": "code",
   "execution_count": 21,
   "id": "ec1d85e8",
   "metadata": {},
   "outputs": [],
   "source": [
    "#Check EDA Notebook for how and why I got these indices.\n",
    "md['id'] = md['id'].astype('int')"
   ]
  },
  {
   "cell_type": "code",
   "execution_count": 22,
   "id": "01de390d",
   "metadata": {},
   "outputs": [
    {
     "data": {
      "text/plain": [
       "(10051, 47)"
      ]
     },
     "execution_count": 22,
     "metadata": {},
     "output_type": "execute_result"
    }
   ],
   "source": [
    "md = md[md['id'].isin(subset_md)]\n",
    "md.shape"
   ]
  },
  {
   "cell_type": "markdown",
   "id": "7c9e85a0",
   "metadata": {},
   "source": [
    "We have 10051 movies avaiable in our small movies metadata dataset which is 4 times smaller than our original dataset of 45000 movies."
   ]
  },
  {
   "cell_type": "markdown",
   "id": "7893349e",
   "metadata": {},
   "source": [
    "### Description Based Recommender"
   ]
  },
  {
   "cell_type": "markdown",
   "id": "8e33f21f",
   "metadata": {},
   "source": [
    "Let us first try to build a recommender using movie descriptions and taglines. We do not have a quantitative metric to judge our machine's performance so this will have to be done qualitatively.\n",
    "\n",
    "We'll compute TF-IDF vectors for each movie overview. TF represents the relative frequency of a word in a document, while IDF measures the importance of each word across documents. Multiplying TF by IDF yields the overall importance of each word to the documents. This process reduces the significance of frequently occurring words in plot overviews. Fortunately, scikit-learn offers a built-in TfIdfVectorizer class for generating the TF-IDF matrix efficiently."
   ]
  },
  {
   "cell_type": "code",
   "execution_count": 23,
   "id": "09390e29",
   "metadata": {},
   "outputs": [],
   "source": [
    "md['overview'] = md['overview'].fillna('')\n",
    "md['tagline'] = md['tagline'].fillna('')\n",
    "md['description'] = md['overview'] + md['tagline']\n",
    "md['description'] = md['description'].fillna('')"
   ]
  },
  {
   "cell_type": "code",
   "execution_count": 24,
   "id": "84e54988",
   "metadata": {},
   "outputs": [],
   "source": [
    "tf = TfidfVectorizer(analyzer='word',ngram_range=(1, 2),min_df=0, stop_words='english')\n",
    "tfidf_matrix = tf.fit_transform(md['description'])"
   ]
  },
  {
   "cell_type": "code",
   "execution_count": 25,
   "id": "16bde9e4",
   "metadata": {},
   "outputs": [
    {
     "data": {
      "text/plain": [
       "(10051, 295154)"
      ]
     },
     "execution_count": 25,
     "metadata": {},
     "output_type": "execute_result"
    }
   ],
   "source": [
    "tfidf_matrix.shape"
   ]
  },
  {
   "cell_type": "markdown",
   "id": "c630b43e",
   "metadata": {},
   "source": [
    "We have constructed a matrix with over 295,154 unique words used to describe 10,051 movies in our dataset.\n",
    "\n",
    "Now, to compute similarity between movies, we have various options like Euclidean distance, Pearson correlation, and cosine similarity scores. Each score has its own strengths and works well in different scenarios. For our case, we'll use cosine similarity. This metric is preferred because it's independent of magnitude and is efficient to compute. Cosine similarity quantifies the similarity between two movies by measuring the cosine of the angle between their respective feature vectors."
   ]
  },
  {
   "cell_type": "markdown",
   "id": "0afeb911",
   "metadata": {},
   "source": [
    "#### Cosine Similarity\n",
    "\n",
    "I will be using the Cosine Similarity to calculate a numeric quantity that denotes the similarity between two movies. Mathematically, it is defined as follows:\n",
    "\n",
    "$cosine(x,y) = \\frac{x. y^\\intercal}{||x||.||y||} $\n",
    "\n",
    "Since we have used the TF-IDF Vectorizer, calculating the Dot Product will directly give us the Cosine Similarity Score. Therefore, we will use sklearn's **linear_kernel** instead of cosine_similarities since it is much faster."
   ]
  },
  {
   "cell_type": "code",
   "execution_count": 26,
   "id": "0e03eb0f",
   "metadata": {},
   "outputs": [],
   "source": [
    "cosine_sim = linear_kernel(tfidf_matrix, tfidf_matrix)"
   ]
  },
  {
   "cell_type": "code",
   "execution_count": 27,
   "id": "afcd32c9",
   "metadata": {},
   "outputs": [
    {
     "name": "stdout",
     "output_type": "stream",
     "text": [
      "[[1.   0.   0.   ... 0.   0.   0.  ]\n",
      " [0.   1.   0.   ... 0.01 0.   0.  ]\n",
      " [0.   0.   1.   ... 0.   0.   0.  ]\n",
      " ...\n",
      " [0.   0.01 0.   ... 1.   0.01 0.  ]\n",
      " [0.   0.   0.   ... 0.01 1.   0.  ]\n",
      " [0.   0.   0.   ... 0.   0.   1.  ]]\n"
     ]
    }
   ],
   "source": [
    "np.set_printoptions(suppress=True, precision=2, linewidth=80)\n",
    "print(cosine_sim)\n"
   ]
  },
  {
   "cell_type": "markdown",
   "id": "757f1eb7",
   "metadata": {},
   "source": [
    "We now have a pairwise cosine similarity matrix for all the movies in our dataset. The next step is to write a function that returns the 30 most similar movies based on the cosine similarity score."
   ]
  },
  {
   "cell_type": "code",
   "execution_count": 28,
   "id": "566c6f80",
   "metadata": {},
   "outputs": [],
   "source": [
    "md = md.reset_index()\n",
    "titles = md['title']\n",
    "indices = pd.Series(md.index, index=md['title'])"
   ]
  },
  {
   "cell_type": "code",
   "execution_count": 29,
   "id": "2e111922",
   "metadata": {},
   "outputs": [],
   "source": [
    "def des_based_recom(title):\n",
    "    start_time = time.time()\n",
    "    idx = indices[title]\n",
    "    sim_scores = list(enumerate(cosine_sim[idx]))\n",
    "    sim_scores = sorted(sim_scores, key=lambda x: x[1], reverse=True)\n",
    "    sim_scores = sim_scores[1:31]\n",
    "    movie_indices = [i[0] for i in sim_scores]\n",
    "    end_time = time.time()\n",
    "    processing_time = end_time - start_time\n",
    "    return titles.iloc[movie_indices], processing_time"
   ]
  },
  {
   "cell_type": "markdown",
   "id": "d7d2de73",
   "metadata": {},
   "source": [
    "We're all set. Let us now try and get the top recommendations for a few movies and see how good the recommendations are"
   ]
  },
  {
   "cell_type": "code",
   "execution_count": 30,
   "id": "6102905c",
   "metadata": {},
   "outputs": [
    {
     "name": "stdout",
     "output_type": "stream",
     "text": [
      "Processing Time: 0.015 seconds\n",
      "\n",
      "723     Batman: Mask of the Phantasm\n",
      "28                    Batman Forever\n",
      "4024                Batman: Year One\n",
      "2797                 The Dark Knight\n",
      "1771                     Masterminds\n",
      "308                   Batman Returns\n",
      "6791       Prahaar: The Final Attack\n",
      "4536               Nameless Gangster\n",
      "8224              1920: Evil Returns\n",
      "2669         Arn: The Knight Templar\n",
      "Name: title, dtype: object\n"
     ]
    }
   ],
   "source": [
    "recommendations, processing_time_des = des_based_recom('Batman')\n",
    "print(\"Processing Time:\", round(processing_time_des,3), \"seconds\\n\")\n",
    "print(recommendations.head(10))"
   ]
  },
  {
   "cell_type": "code",
   "execution_count": 31,
   "id": "d137701d",
   "metadata": {},
   "outputs": [
    {
     "name": "stdout",
     "output_type": "stream",
     "text": [
      "Processing Time: 0.015 seconds\n",
      "\n",
      "9816         Liar Game: Reborn\n",
      "10007                     Quiz\n",
      "4581     How to Make a Monster\n",
      "6253         Not Safe for Work\n",
      "1860                   Masques\n",
      "3775                    DeVour\n",
      "2406             Grandma's Boy\n",
      "6576                    Pelota\n",
      "578                   eXistenZ\n",
      "3974          The Winning Team\n",
      "Name: title, dtype: object\n"
     ]
    }
   ],
   "source": [
    "recommendations, processing_time = des_based_recom('Jumanji')\n",
    "print(\"Processing Time:\", round(processing_time_des,3), \"seconds\\n\")\n",
    "print(recommendations.head(10))"
   ]
  },
  {
   "cell_type": "markdown",
   "id": "785f7481",
   "metadata": {},
   "source": [
    "The system's identification of \"The Dark Knight\" as a Batman film leads to recommendations primarily consisting of other Batman films. However, this simplistic method overlooks crucial factors like cast, crew, director, and genre, which greatly influence a movie's rating and popularity. Consequently, these recommendations may lack relevance and utility for most users, as they fail to consider the diverse elements that contribute to a movie's appeal."
   ]
  },
  {
   "cell_type": "markdown",
   "id": "b494b84a",
   "metadata": {},
   "source": [
    "### Keywords Based Recommender\n",
    "Based on our word cloud, we see that many movies have words that include love, life, story, heist, Therefore Keywords provide a more granular analysis, reduce dimensionality, improve interpretability, and may enhance performance by focusing on specific terms indicative of user preferences. Additionally, using this approaches allows for a comprehensive exploration of the dataset, leading to more effective recommendations."
   ]
  },
  {
   "cell_type": "code",
   "execution_count": 32,
   "id": "25027ced",
   "metadata": {},
   "outputs": [],
   "source": [
    "md=df\n",
    "keywords = pd.read_csv('keywords.csv')"
   ]
  },
  {
   "cell_type": "code",
   "execution_count": 33,
   "id": "e2a697fe",
   "metadata": {},
   "outputs": [],
   "source": [
    "md['id'] = md['id'].astype('int')\n",
    "keywords['id'] = keywords['id'].astype('int')"
   ]
  },
  {
   "cell_type": "code",
   "execution_count": 34,
   "id": "d4c6174c",
   "metadata": {},
   "outputs": [],
   "source": [
    "md = md.merge(keywords, on='id')"
   ]
  },
  {
   "cell_type": "code",
   "execution_count": 35,
   "id": "0283a6df",
   "metadata": {},
   "outputs": [],
   "source": [
    "md_subset = md.head(10000)"
   ]
  },
  {
   "cell_type": "code",
   "execution_count": 36,
   "id": "082a3092",
   "metadata": {},
   "outputs": [],
   "source": [
    "md_subset['keywords'] = md_subset['keywords'].fillna('')"
   ]
  },
  {
   "cell_type": "code",
   "execution_count": 37,
   "id": "fda4749e",
   "metadata": {},
   "outputs": [],
   "source": [
    "md_subset['keywords'] = md_subset['keywords'].apply(lambda x: [i['name'] for i in eval(x)] \n",
    "                                                    if isinstance(x, str) else [])\n",
    "\n",
    "md_subset['keywords_str'] = md_subset['keywords'].apply(lambda x: ' '.join(x))"
   ]
  },
  {
   "cell_type": "code",
   "execution_count": 38,
   "id": "51294678",
   "metadata": {},
   "outputs": [],
   "source": [
    "tfidf = TfidfVectorizer(stop_words='english')"
   ]
  },
  {
   "cell_type": "code",
   "execution_count": 39,
   "id": "fc47520e",
   "metadata": {},
   "outputs": [],
   "source": [
    "tfidf_matrix = tfidf.fit_transform(md_subset['keywords_str'])"
   ]
  },
  {
   "cell_type": "code",
   "execution_count": 40,
   "id": "71fbede3",
   "metadata": {},
   "outputs": [],
   "source": [
    "cosine_sim = linear_kernel(tfidf_matrix, tfidf_matrix)"
   ]
  },
  {
   "cell_type": "code",
   "execution_count": 41,
   "id": "ae86b4d0",
   "metadata": {
    "scrolled": true
   },
   "outputs": [],
   "source": [
    "def key_based_recom(title, cosine_sim=cosine_sim, md=md_subset):\n",
    "    start_time = time.time()\n",
    "    idx = md[md['title'] == title].index[0]\n",
    "    sim_scores = list(enumerate(cosine_sim[idx]))\n",
    "    sim_scores = sorted(sim_scores, key=lambda x: x[1], reverse=True)\n",
    "    sim_scores = sim_scores[1:11]\n",
    "    movie_indices = [i[0] for i in sim_scores]\n",
    "    end_time = time.time()\n",
    "    \n",
    "    processing_time = end_time - start_time\n",
    "    return md['title'].iloc[movie_indices], processing_time"
   ]
  },
  {
   "cell_type": "code",
   "execution_count": 42,
   "id": "adadd76d",
   "metadata": {},
   "outputs": [
    {
     "name": "stdout",
     "output_type": "stream",
     "text": [
      "Processing Time: 0.02 seconds\n",
      "\n",
      "1511                               Batman & Robin\n",
      "1349                               Batman Returns\n",
      "3122                 Batman: Mask of the Phantasm\n",
      "2548                                 Superman III\n",
      "5094                                Hero at Large\n",
      "9312           Batman Beyond: Return of the Joker\n",
      "9251    The Batman Superman Movie: World's Finest\n",
      "4798                                      The One\n",
      "2546                                     Superman\n",
      "3780                                    Supergirl\n",
      "Name: title, dtype: object\n"
     ]
    }
   ],
   "source": [
    "recommendations, processing_time_key = key_based_recom('Batman')\n",
    "print(\"Processing Time:\", round(processing_time_key,3), \"seconds\\n\")\n",
    "print(recommendations)"
   ]
  },
  {
   "cell_type": "code",
   "execution_count": 43,
   "id": "df568bc4",
   "metadata": {},
   "outputs": [
    {
     "name": "stdout",
     "output_type": "stream",
     "text": [
      "Processing Time: 0.018 seconds\n",
      "2320                                    Clue\n",
      "4319                   Village of the Giants\n",
      "9584                               Word Wars\n",
      "5036                       The Deadly Mantis\n",
      "651                James and the Giant Peach\n",
      "2194                                   Them!\n",
      "3942    Don't Tell Mom the Babysitter's Dead\n",
      "2810                      Gulliver's Travels\n",
      "5204                   First Men in the Moon\n",
      "1830                                Madeline\n",
      "Name: title, dtype: object\n"
     ]
    }
   ],
   "source": [
    "recommendations, processing_time_key = key_based_recom('Jumanji')\n",
    "print(\"Processing Time:\", round(processing_time_key,3), \"seconds\")\n",
    "print(recommendations)"
   ]
  },
  {
   "cell_type": "markdown",
   "id": "468cae4c",
   "metadata": {},
   "source": [
    "To improve our recommendation system, we will implement a filtering mechanism to exclude low-quality movies and prioritize those with high ratings and popularity. This approach will involve considering both similarity scores and the movies' ratings and popularity when making recommendations."
   ]
  },
  {
   "cell_type": "markdown",
   "id": "24c7306a",
   "metadata": {},
   "source": [
    "So in this technique we'll start by finding the top 25 movies based on similarity scores. Then, we'll calculate the vote count of the 60th percentile movie among these top 25. This count will be our threshold, denoted as \"m\". Using this threshold, we'll compute a weighted rating for each movie using IMDB's formula. This method ensures that we prioritize movies with substantial votes and positive ratings, while also considering their similarity to the input movie."
   ]
  },
  {
   "cell_type": "code",
   "execution_count": 44,
   "id": "d3b9c934",
   "metadata": {},
   "outputs": [],
   "source": [
    "def get_recommendations(title, cosine_sim=cosine_sim, md=md_subset):\n",
    "    start_time = time.time()\n",
    "    \n",
    "    idx = md[md['title'] == title].index[0]\n",
    "    sim_scores = list(enumerate(cosine_sim[idx]))\n",
    "    sim_scores = sorted(sim_scores, key=lambda x: x[1], reverse=True)\n",
    "    sim_scores = sim_scores[1:26]  # Top 25 movies\n",
    "    movie_indices = [i[0] for i in sim_scores]\n",
    "    movies = md.iloc[movie_indices]\n",
    "    \n",
    "    # Calculate the vote count and vote average for the 60th percentile movie\n",
    "    vote_counts = movies[movies['vote_count'].notnull()]['vote_count'].astype('int')\n",
    "    vote_averages = movies[movies['vote_average'].notnull()]['vote_average'].astype('int')\n",
    "    C = vote_averages.mean()\n",
    "    m = vote_counts.quantile(0.60)\n",
    "    \n",
    "    # Filter out bad movies and return popular ones with good critical response\n",
    "    qualified = movies[(movies['vote_count'] >= m) & (movies['vote_count'].notnull()) & \n",
    "                       (movies['vote_average'].notnull())]\n",
    "    \n",
    "    qualified['vote_count'] = qualified['vote_count'].astype('int')\n",
    "    qualified['vote_average'] = qualified['vote_average'].astype('int')\n",
    "    qualified['wr'] = qualified.apply(lambda x: weighted_rating(x, m, C), axis=1)\n",
    "    qualified = qualified.sort_values('wr', ascending=False).head(10)\n",
    "    \n",
    "    end_time = time.time()\n",
    "    processing_time = end_time - start_time\n",
    "    \n",
    "    return qualified['title'], processing_time\n"
   ]
  },
  {
   "cell_type": "code",
   "execution_count": 45,
   "id": "3bb9d74c",
   "metadata": {},
   "outputs": [
    {
     "name": "stdout",
     "output_type": "stream",
     "text": [
      "Processing Time: 0.02804279327392578 seconds\n",
      "7985                        Spider-Man 2\n",
      "3896                         Unbreakable\n",
      "1349                      Batman Returns\n",
      "2546                            Superman\n",
      "2547                         Superman II\n",
      "4798                             The One\n",
      "2548                        Superman III\n",
      "150                       Batman Forever\n",
      "2549    Superman IV: The Quest for Peace\n",
      "1511                      Batman & Robin\n",
      "Name: title, dtype: object\n"
     ]
    }
   ],
   "source": [
    "recommendations, processing_time_key = get_recommendations('Batman')\n",
    "print(\"Processing Time:\", processing_time_key, \"seconds\")\n",
    "print(recommendations)"
   ]
  },
  {
   "cell_type": "markdown",
   "id": "5d4a5b8d",
   "metadata": {},
   "source": [
    "Unfortunately, Batman and Robin does not disappear from our recommendation list but its place does fall down from 1st to 10th. This is probably due to the fact that our dataset has been substed from the original.\n",
    "\n",
    "#### This approach ensures that the recommended movies not only share similarity with the input title but also have a strong critical response and popularity among viewers, resulting in potentially more satisfying recommendations for users."
   ]
  },
  {
   "cell_type": "markdown",
   "id": "ccb5c90d",
   "metadata": {},
   "source": [
    "<a class='anchor' id=\"collab_fil\"></a>"
   ]
  },
  {
   "cell_type": "markdown",
   "id": "467d42d5",
   "metadata": {},
   "source": [
    "# Collaborative Filtering"
   ]
  },
  {
   "cell_type": "markdown",
   "id": "e4052205",
   "metadata": {},
   "source": [
    "* Our current content-based recommendation engine exhibits significant limitations, primarily in its inability to offer diverse movie suggestions across genres and to personalize recommendations based on individual user preferences. While it effectively suggests movies similar to a given title, it lacks the capability to capture nuanced tastes and provide tailored recommendations.\n",
    "\n",
    "* To address these shortcomings, we will adopt a collaborative filtering approach to enhance our recommendation system. Collaborative filtering leverages the collective wisdom of user interactions with movies to predict preferences and offer relevant recommendations. The core concept behind collaborative filtering is the assumption that users with similar preferences tend to like similar movies. By analyzing historical user-item interactions, collaborative filtering algorithms identify patterns in user behavior and generate recommendations based on the preferences of similar users.\n",
    "\n",
    "* Unlike content-based approaches, collaborative filtering considers not only the attributes of individual movies but also the preferences and behavior of other users. This enables the system to offer recommendations that align more closely with a user's unique tastes and interests.\n",
    "\n",
    "* In our implementation, we will leverage the Surprise library, which provides powerful algorithms such as Singular Value Decomposition (SVD) to minimize Root Mean Square Error (RMSE) and deliver accurate recommendations. By utilizing SVD and other advanced techniques available in Surprise, we can effectively address the challenges of capturing user preferences and offering personalized recommendations.\n",
    "\n",
    "* Through collaborative filtering, our recommendation engine will evolve from providing generic suggestions to delivering personalized movie recommendations tailored to each user's preferences. This enhancement will significantly enhance the user experience, increase engagement, and foster greater satisfaction with our movie-watching platform."
   ]
  },
  {
   "cell_type": "code",
   "execution_count": 46,
   "id": "e17577f1",
   "metadata": {},
   "outputs": [],
   "source": [
    "# conda install scikit-surprise -c conda-forge"
   ]
  },
  {
   "cell_type": "code",
   "execution_count": 47,
   "id": "5744a74d",
   "metadata": {},
   "outputs": [],
   "source": [
    "#reader = Reader()"
   ]
  },
  {
   "cell_type": "code",
   "execution_count": 48,
   "id": "b94b282a",
   "metadata": {},
   "outputs": [
    {
     "data": {
      "text/html": [
       "<div>\n",
       "<style scoped>\n",
       "    .dataframe tbody tr th:only-of-type {\n",
       "        vertical-align: middle;\n",
       "    }\n",
       "\n",
       "    .dataframe tbody tr th {\n",
       "        vertical-align: top;\n",
       "    }\n",
       "\n",
       "    .dataframe thead th {\n",
       "        text-align: right;\n",
       "    }\n",
       "</style>\n",
       "<table border=\"1\" class=\"dataframe\">\n",
       "  <thead>\n",
       "    <tr style=\"text-align: right;\">\n",
       "      <th></th>\n",
       "      <th>userId</th>\n",
       "      <th>movieId</th>\n",
       "      <th>rating</th>\n",
       "      <th>timestamp</th>\n",
       "    </tr>\n",
       "  </thead>\n",
       "  <tbody>\n",
       "    <tr>\n",
       "      <th>0</th>\n",
       "      <td>1</td>\n",
       "      <td>31</td>\n",
       "      <td>2.5</td>\n",
       "      <td>1260759144</td>\n",
       "    </tr>\n",
       "    <tr>\n",
       "      <th>1</th>\n",
       "      <td>1</td>\n",
       "      <td>1029</td>\n",
       "      <td>3.0</td>\n",
       "      <td>1260759179</td>\n",
       "    </tr>\n",
       "    <tr>\n",
       "      <th>2</th>\n",
       "      <td>1</td>\n",
       "      <td>1061</td>\n",
       "      <td>3.0</td>\n",
       "      <td>1260759182</td>\n",
       "    </tr>\n",
       "    <tr>\n",
       "      <th>3</th>\n",
       "      <td>1</td>\n",
       "      <td>1129</td>\n",
       "      <td>2.0</td>\n",
       "      <td>1260759185</td>\n",
       "    </tr>\n",
       "    <tr>\n",
       "      <th>4</th>\n",
       "      <td>1</td>\n",
       "      <td>1172</td>\n",
       "      <td>4.0</td>\n",
       "      <td>1260759205</td>\n",
       "    </tr>\n",
       "  </tbody>\n",
       "</table>\n",
       "</div>"
      ],
      "text/plain": [
       "   userId  movieId  rating   timestamp\n",
       "0       1       31     2.5  1260759144\n",
       "1       1     1029     3.0  1260759179\n",
       "2       1     1061     3.0  1260759182\n",
       "3       1     1129     2.0  1260759185\n",
       "4       1     1172     4.0  1260759205"
      ]
     },
     "execution_count": 48,
     "metadata": {},
     "output_type": "execute_result"
    }
   ],
   "source": [
    "ratings = pd.read_csv('ratings_small.csv')\n",
    "ratings.head()"
   ]
  },
  {
   "cell_type": "code",
   "execution_count": 49,
   "id": "9519fc85",
   "metadata": {},
   "outputs": [
    {
     "name": "stdout",
     "output_type": "stream",
     "text": [
      "Evaluating RMSE, MAE of algorithm SVD on 5 split(s).\n",
      "\n",
      "                  Fold 1  Fold 2  Fold 3  Fold 4  Fold 5  Mean    Std     \n",
      "RMSE (testset)    0.8989  0.8958  0.8947  0.9012  0.8946  0.8970  0.0026  \n",
      "MAE (testset)     0.6919  0.6920  0.6894  0.6934  0.6888  0.6911  0.0017  \n",
      "Fit time          7.54    7.27    7.06    6.97    8.04    7.38    0.38    \n",
      "Test time         0.17    0.30    0.17    0.16    0.15    0.19    0.05    \n",
      "test_rmse : [0.9  0.9  0.89 0.9  0.89]\n",
      "test_mae : [0.69 0.69 0.69 0.69 0.69]\n",
      "fit_time : (7.538897752761841, 7.271576404571533, 7.060170412063599, 6.974378347396851, 8.037071704864502)\n",
      "test_time : (0.16910147666931152, 0.2980995178222656, 0.1722719669342041, 0.1633596420288086, 0.15424585342407227)\n"
     ]
    }
   ],
   "source": [
    "data = Dataset.load_from_df(ratings[['userId', 'movieId', 'rating']], reader)\n",
    "\n",
    "algo = SVD()\n",
    "\n",
    "results = cross_validate(algo, data, measures=['RMSE', 'MAE'], cv=5, verbose=True)\n",
    "\n",
    "for key, value in results.items():\n",
    "    print(key, ':', value)"
   ]
  },
  {
   "cell_type": "markdown",
   "id": "12475375",
   "metadata": {},
   "source": [
    "#### In the evaluation results:\n",
    "\n",
    "The Root Mean Square Error (RMSE) values range from 0.8897 to 0.9042 across the folds, with a mean RMSE of 0.8977 and a standard deviation of 0.0054.\n",
    "The Mean Absolute Error (MAE) values range from 0.6851 to 0.6954 across the folds, with a mean MAE of 0.6911 and a standard deviation of 0.0036.\n",
    "\n",
    "Overall, these results suggest that the SVD algorithm performs reasonably well in predicting movie ratings, with relatively low RMSE and MAE values. Additionally, the algorithm demonstrates efficient performance in terms of both model fitting and testing times."
   ]
  },
  {
   "cell_type": "code",
   "execution_count": 50,
   "id": "ca623401",
   "metadata": {},
   "outputs": [
    {
     "data": {
      "text/plain": [
       "<surprise.prediction_algorithms.matrix_factorization.SVD at 0x18987dbf970>"
      ]
     },
     "execution_count": 50,
     "metadata": {},
     "output_type": "execute_result"
    }
   ],
   "source": [
    "trainset = data.build_full_trainset()\n",
    "algo.fit(trainset)"
   ]
  },
  {
   "cell_type": "code",
   "execution_count": 51,
   "id": "54f53539",
   "metadata": {
    "scrolled": true
   },
   "outputs": [
    {
     "data": {
      "text/html": [
       "<div>\n",
       "<style scoped>\n",
       "    .dataframe tbody tr th:only-of-type {\n",
       "        vertical-align: middle;\n",
       "    }\n",
       "\n",
       "    .dataframe tbody tr th {\n",
       "        vertical-align: top;\n",
       "    }\n",
       "\n",
       "    .dataframe thead th {\n",
       "        text-align: right;\n",
       "    }\n",
       "</style>\n",
       "<table border=\"1\" class=\"dataframe\">\n",
       "  <thead>\n",
       "    <tr style=\"text-align: right;\">\n",
       "      <th></th>\n",
       "      <th>userId</th>\n",
       "      <th>movieId</th>\n",
       "      <th>rating</th>\n",
       "      <th>timestamp</th>\n",
       "    </tr>\n",
       "  </thead>\n",
       "  <tbody>\n",
       "    <tr>\n",
       "      <th>147</th>\n",
       "      <td>4</td>\n",
       "      <td>10</td>\n",
       "      <td>4.0</td>\n",
       "      <td>949810645</td>\n",
       "    </tr>\n",
       "    <tr>\n",
       "      <th>148</th>\n",
       "      <td>4</td>\n",
       "      <td>34</td>\n",
       "      <td>5.0</td>\n",
       "      <td>949919556</td>\n",
       "    </tr>\n",
       "    <tr>\n",
       "      <th>149</th>\n",
       "      <td>4</td>\n",
       "      <td>112</td>\n",
       "      <td>5.0</td>\n",
       "      <td>949810582</td>\n",
       "    </tr>\n",
       "    <tr>\n",
       "      <th>150</th>\n",
       "      <td>4</td>\n",
       "      <td>141</td>\n",
       "      <td>5.0</td>\n",
       "      <td>949919681</td>\n",
       "    </tr>\n",
       "    <tr>\n",
       "      <th>151</th>\n",
       "      <td>4</td>\n",
       "      <td>153</td>\n",
       "      <td>4.0</td>\n",
       "      <td>949811346</td>\n",
       "    </tr>\n",
       "    <tr>\n",
       "      <th>...</th>\n",
       "      <td>...</td>\n",
       "      <td>...</td>\n",
       "      <td>...</td>\n",
       "      <td>...</td>\n",
       "    </tr>\n",
       "    <tr>\n",
       "      <th>346</th>\n",
       "      <td>4</td>\n",
       "      <td>3251</td>\n",
       "      <td>5.0</td>\n",
       "      <td>949918970</td>\n",
       "    </tr>\n",
       "    <tr>\n",
       "      <th>347</th>\n",
       "      <td>4</td>\n",
       "      <td>3255</td>\n",
       "      <td>4.0</td>\n",
       "      <td>949919738</td>\n",
       "    </tr>\n",
       "    <tr>\n",
       "      <th>348</th>\n",
       "      <td>4</td>\n",
       "      <td>3263</td>\n",
       "      <td>3.0</td>\n",
       "      <td>949919845</td>\n",
       "    </tr>\n",
       "    <tr>\n",
       "      <th>349</th>\n",
       "      <td>4</td>\n",
       "      <td>3265</td>\n",
       "      <td>5.0</td>\n",
       "      <td>949895732</td>\n",
       "    </tr>\n",
       "    <tr>\n",
       "      <th>350</th>\n",
       "      <td>4</td>\n",
       "      <td>4006</td>\n",
       "      <td>2.0</td>\n",
       "      <td>949982238</td>\n",
       "    </tr>\n",
       "  </tbody>\n",
       "</table>\n",
       "<p>204 rows × 4 columns</p>\n",
       "</div>"
      ],
      "text/plain": [
       "     userId  movieId  rating  timestamp\n",
       "147       4       10     4.0  949810645\n",
       "148       4       34     5.0  949919556\n",
       "149       4      112     5.0  949810582\n",
       "150       4      141     5.0  949919681\n",
       "151       4      153     4.0  949811346\n",
       "..      ...      ...     ...        ...\n",
       "346       4     3251     5.0  949918970\n",
       "347       4     3255     4.0  949919738\n",
       "348       4     3263     3.0  949919845\n",
       "349       4     3265     5.0  949895732\n",
       "350       4     4006     2.0  949982238\n",
       "\n",
       "[204 rows x 4 columns]"
      ]
     },
     "execution_count": 51,
     "metadata": {},
     "output_type": "execute_result"
    }
   ],
   "source": [
    "ratings[ratings['userId'] == 4]"
   ]
  },
  {
   "cell_type": "markdown",
   "id": "65ecfdd4",
   "metadata": {},
   "source": [
    "#### DataFrame ratings to retrieve all rows where the 'userId' column has a value of 1. This effectively returns all ratings provided by user 1."
   ]
  },
  {
   "cell_type": "code",
   "execution_count": 52,
   "id": "8e6dfc0e",
   "metadata": {},
   "outputs": [
    {
     "data": {
      "text/plain": [
       "Prediction(uid=1, iid=1371, r_ui=None, est=2.3357117062736603, details={'was_impossible': False})"
      ]
     },
     "execution_count": 52,
     "metadata": {},
     "output_type": "execute_result"
    }
   ],
   "source": [
    "algo.predict(1, 1371)"
   ]
  },
  {
   "cell_type": "code",
   "execution_count": 53,
   "id": "007019bd",
   "metadata": {},
   "outputs": [
    {
     "name": "stdout",
     "output_type": "stream",
     "text": [
      "The user 1 would rate the movie 'Rocky III' as 3.61 our of 5.0\n",
      "\n",
      "Processing Time: 0.002 seconds\n"
     ]
    }
   ],
   "source": [
    "start_time = time.time()\n",
    "\n",
    "estimated_rating = round(algo.predict(5, 1371).est,2)\n",
    "\n",
    "movie_title_1371 = md.loc[md['id'] == 1371, 'title'].values[0]\n",
    "\n",
    "end_time = time.time()\n",
    "\n",
    "processing_time_colab = end_time - start_time\n",
    "\n",
    "print(f\"The user 1 would rate the movie '{movie_title_1371}' as {estimated_rating} our of 5.0\\n\")\n",
    "print(\"Processing Time:\", round(processing_time_colab,3), \"seconds\")"
   ]
  },
  {
   "cell_type": "code",
   "execution_count": 54,
   "id": "54787502",
   "metadata": {},
   "outputs": [
    {
     "name": "stdout",
     "output_type": "stream",
     "text": [
      "The user 343 would rate the movie 'Sunrise: A Song of Two Humans' as 3.52 our of 5.0\n",
      "\n",
      "Processing Time: 0.002 seconds\n"
     ]
    }
   ],
   "source": [
    "start_time = time.time()\n",
    "\n",
    "estimated_rating = round(algo.predict(343, 631).est,2)\n",
    "\n",
    "movie_title_1371 = md.loc[md['id'] == 631, 'title'].values[0]\n",
    "\n",
    "end_time = time.time()\n",
    "\n",
    "processing_time_colab = end_time - start_time\n",
    "\n",
    "print(f\"The user 343 would rate the movie '{movie_title_1371}' as {estimated_rating} our of 5.0\\n\")\n",
    "print(\"Processing Time:\", round(processing_time_colab,3), \"seconds\")"
   ]
  },
  {
   "cell_type": "code",
   "execution_count": 55,
   "id": "91c2bac5",
   "metadata": {},
   "outputs": [
    {
     "name": "stdout",
     "output_type": "stream",
     "text": [
      "The user 1 would rate the movie 'Sunrise: A Song of Two Humans' as 2.44 our of 5.0\n",
      "\n",
      "Processing Time: 0.001 seconds\n"
     ]
    }
   ],
   "source": [
    "start_time = time.time()\n",
    "\n",
    "estimated_rating = round(algo.predict(1, 631).est,2)\n",
    "\n",
    "movie_title_1371 = md.loc[md['id'] == 631, 'title'].values[0]\n",
    "\n",
    "end_time = time.time()\n",
    "\n",
    "processing_time_colab = end_time - start_time\n",
    "\n",
    "print(f\"The user 1 would rate the movie '{movie_title_1371}' as {estimated_rating} our of 5.0\\n\")\n",
    "print(\"Processing Time:\", round(processing_time_colab,3), \"seconds\")"
   ]
  },
  {
   "cell_type": "markdown",
   "id": "25028e16",
   "metadata": {},
   "source": [
    "This demonstrate the personalized nature of collaborative filtering-based recommendation systems. The estimated ratings for the movie \"Sunrise: A Song of Two Humans\" differ for two different users (user 343 and user 1), indicating that the system tailors recommendations based on individual preferences and past behavior. This level of personalization enhances the user experience by providing more relevant and accurate recommendations, leading to increased user satisfaction and engagement with the platform."
   ]
  },
  {
   "cell_type": "markdown",
   "id": "c57a31cc",
   "metadata": {},
   "source": [
    "<a class='anchor' id=\"hyb_reco\"></a>"
   ]
  },
  {
   "cell_type": "markdown",
   "id": "256b0f27",
   "metadata": {},
   "source": [
    "# Hybrid Recommender"
   ]
  },
  {
   "cell_type": "markdown",
   "id": "3888164a",
   "metadata": {},
   "source": [
    "The hybrid recommender system combines the strengths of both content-based and collaborative filtering approaches to provide more accurate and diverse recommendations. Collaborative filtering relies on user behavior to make predictions, while content-based filtering leverages item features to make recommendations. By integrating both methods, we aim to overcome the limitations of each approach individually.\n",
    "\n",
    "While collaborative filtering is effective at capturing user preferences, it may struggle with providing recommendations for new or niche items. Content-based filtering, on the other hand, can suffer from overspecialization and lack of serendipity. The hybrid approach addresses these shortcomings by leveraging the collaborative filtering model's user-specific insights while incorporating content-based features to ensure diversity and novelty in recommendations.\n",
    "\n",
    "By combining both methods, the hybrid recommender system can offer more personalized and accurate suggestions, enhancing the overall user experience and satisfaction."
   ]
  },
  {
   "cell_type": "code",
   "execution_count": 56,
   "id": "302bb864",
   "metadata": {},
   "outputs": [],
   "source": [
    "def content_based_filtering(title):\n",
    "    \"\"\"\n",
    "    Perform content-based filtering to recommend similar movies based on a given movie title.\n",
    "\n",
    "    Parameters:\n",
    "        title (str): The title of the movie for which recommendations are sought.\n",
    "\n",
    "    Returns:\n",
    "        pd.DataFrame: DataFrame containing recommended movies and their relevant features.\n",
    "    \"\"\"\n",
    "    idx = md_subset[md_subset['title'] == title].index[0]\n",
    "    sim_scores = list(enumerate(cosine_sim[idx]))\n",
    "    sim_scores = sorted(sim_scores, key=lambda x: x[1], reverse=True)\n",
    "    sim_scores = sim_scores[1:26]\n",
    "    movie_indices = [i[0] for i in sim_scores]\n",
    "    return md_subset.iloc[movie_indices][['title', 'vote_average', 'vote_count', 'year', 'id']]"
   ]
  },
  {
   "cell_type": "code",
   "execution_count": 57,
   "id": "a8902409",
   "metadata": {},
   "outputs": [],
   "source": [
    "def collaborative_filtering(userId, content_based_df):\n",
    "    \"\"\"\n",
    "    Perform collaborative filtering to predict user ratings for movies.\n",
    "\n",
    "    Parameters:\n",
    "        userId (int): The ID of the user for whom ratings are to be predicted.\n",
    "        content_based_df (pd.DataFrame): DataFrame containing movies recommended by content-based filtering.\n",
    "\n",
    "    Returns:\n",
    "        pd.DataFrame: DataFrame containing collaborative filtering estimates for recommended movies.\n",
    "    \"\"\"\n",
    "    collab_estimates = []\n",
    "    for id_ in content_based_df['id']:\n",
    "        est = algo.predict(userId, id_).est\n",
    "        collab_estimates.append(est)\n",
    "    content_based_df['collab_est'] = collab_estimates\n",
    "    return content_based_df"
   ]
  },
  {
   "cell_type": "code",
   "execution_count": 58,
   "id": "6f7ae4f2",
   "metadata": {},
   "outputs": [],
   "source": [
    "def calculate_hybrid_score(df):\n",
    "    \"\"\"\n",
    "    Calculate the hybrid score for recommended movies using a combination of content-based and collaborative filtering.\n",
    "\n",
    "    Parameters:\n",
    "        df (pd.DataFrame): DataFrame containing recommended movies with content-based and collaborative filtering estimates.\n",
    "\n",
    "    Returns:\n",
    "        pd.DataFrame: DataFrame containing recommended movies with hybrid scores.\n",
    "    \"\"\"\n",
    "    df['hybrid_score'] = df['vote_average'] * df['collab_est']\n",
    "    return df\n"
   ]
  },
  {
   "cell_type": "code",
   "execution_count": 59,
   "id": "ecfd88db",
   "metadata": {},
   "outputs": [],
   "source": [
    "def hybrid_recommendations(userId, title):\n",
    "    \"\"\"\n",
    "    Generate hybrid recommendations for a user based on a given movie title.\n",
    "\n",
    "    Parameters:\n",
    "        userId (int): The ID of the user for whom recommendations are to be generated.\n",
    "        title (str): The title of the movie for which recommendations are sought.\n",
    "\n",
    "    Returns:\n",
    "        pd.DataFrame: DataFrame containing hybrid recommendations and their relevant features.\n",
    "    \"\"\"\n",
    "    start_time = time.time()\n",
    "    \n",
    "    # Content-based filtering\n",
    "    content_based_df = content_based_filtering(title)\n",
    "    \n",
    "    # Collaborative filtering\n",
    "    collaborative_df = collaborative_filtering(userId, content_based_df)\n",
    "    \n",
    "    # Combine both approaches\n",
    "    hybrid_df = calculate_hybrid_score(collaborative_df)\n",
    "    \n",
    "    # Select top recommendations\n",
    "    hybrid_recommendations = hybrid_df.sort_values('hybrid_score', ascending=False).head(10)\n",
    "    \n",
    "    end_time = time.time()\n",
    "    processing_time = end_time - start_time\n",
    "\n",
    "    return hybrid_recommendations, processing_time\n"
   ]
  },
  {
   "cell_type": "code",
   "execution_count": 65,
   "id": "d10d6ad8",
   "metadata": {
    "scrolled": true
   },
   "outputs": [
    {
     "name": "stdout",
     "output_type": "stream",
     "text": [
      "Processing Time: 0.018 seconds\n",
      "\n",
      "                                          title  year  vote_average\n",
      "585                                      Batman  1989           7.0\n",
      "9312         Batman Beyond: Return of the Joker  2000           7.5\n",
      "3122               Batman: Mask of the Phantasm  1993           7.4\n",
      "9251  The Batman Superman Movie: World's Finest  1998           7.1\n",
      "3896                                Unbreakable  2000           6.9\n",
      "3698                                      X-Men  2000           6.8\n",
      "6264                                         X2  2003           6.8\n",
      "1349                             Batman Returns  1992           6.6\n",
      "8638                              The Music Man  1962           6.7\n",
      "2547                                Superman II  1980           6.5\n"
     ]
    }
   ],
   "source": [
    "recommendations, processing_time_hyb = hybrid_recommendations(1, 'Superman')\n",
    "print(\"Processing Time:\", round(processing_time_hyb,3), \"seconds\\n\")\n",
    "print(recommendations[['title',\"year\",\"vote_average\"]])"
   ]
  },
  {
   "cell_type": "code",
   "execution_count": 66,
   "id": "7670d8be",
   "metadata": {},
   "outputs": [
    {
     "name": "stdout",
     "output_type": "stream",
     "text": [
      "Processing Time: 0.021 seconds\n",
      "\n",
      "                                          title  year  vote_average\n",
      "9312         Batman Beyond: Return of the Joker  2000           7.5\n",
      "3122               Batman: Mask of the Phantasm  1993           7.4\n",
      "1349                             Batman Returns  1992           6.6\n",
      "585                                      Batman  1989           7.0\n",
      "9251  The Batman Superman Movie: World's Finest  1998           7.1\n",
      "3896                                Unbreakable  2000           6.9\n",
      "3698                                      X-Men  2000           6.8\n",
      "6264                                         X2  2003           6.8\n",
      "8638                              The Music Man  1962           6.7\n",
      "2547                                Superman II  1980           6.5\n"
     ]
    }
   ],
   "source": [
    "recommendations, processing_time_hyb = hybrid_recommendations(671, 'Superman')\n",
    "print(\"Processing Time:\", round(processing_time_hyb,3), \"seconds\\n\")\n",
    "print(recommendations[['title',\"year\",\"vote_average\"]])"
   ]
  },
  {
   "cell_type": "code",
   "execution_count": 62,
   "id": "a6f4ef3e",
   "metadata": {},
   "outputs": [
    {
     "name": "stdout",
     "output_type": "stream",
     "text": [
      "Processing Time: 0.018 seconds\n",
      "\n",
      "                                          title  year  vote_average\n",
      "9312         Batman Beyond: Return of the Joker  2000           7.5\n",
      "3122               Batman: Mask of the Phantasm  1993           7.4\n",
      "151                               Belle de Jour  1967           7.3\n",
      "9251  The Batman Superman Movie: World's Finest  1998           7.1\n",
      "3896                                Unbreakable  2000           6.9\n",
      "2547                                Superman II  1980           6.5\n",
      "2546                                   Superman  1978           6.9\n",
      "1349                             Batman Returns  1992           6.6\n",
      "5094                              Hero at Large  1980           6.4\n",
      "1133                The Return of Martin Guerre  1982           6.7\n"
     ]
    }
   ],
   "source": [
    "recommendations, processing_time_hyb = hybrid_recommendations(555, 'Batman')\n",
    "print(\"Processing Time:\", round(processing_time_hyb,3), \"seconds\\n\")\n",
    "print(recommendations[['title',\"year\",\"vote_average\"]])"
   ]
  },
  {
   "cell_type": "code",
   "execution_count": 63,
   "id": "26530b3e",
   "metadata": {},
   "outputs": [
    {
     "data": {
      "text/html": [
       "<div>\n",
       "<style scoped>\n",
       "    .dataframe tbody tr th:only-of-type {\n",
       "        vertical-align: middle;\n",
       "    }\n",
       "\n",
       "    .dataframe tbody tr th {\n",
       "        vertical-align: top;\n",
       "    }\n",
       "\n",
       "    .dataframe thead th {\n",
       "        text-align: right;\n",
       "    }\n",
       "</style>\n",
       "<table border=\"1\" class=\"dataframe\">\n",
       "  <thead>\n",
       "    <tr style=\"text-align: right;\">\n",
       "      <th></th>\n",
       "      <th>Processing Time in s</th>\n",
       "    </tr>\n",
       "    <tr>\n",
       "      <th>Recommender Type</th>\n",
       "      <th></th>\n",
       "    </tr>\n",
       "  </thead>\n",
       "  <tbody>\n",
       "    <tr>\n",
       "      <th>Description based recommender</th>\n",
       "      <td>0.015</td>\n",
       "    </tr>\n",
       "    <tr>\n",
       "      <th>Keyword based recommender</th>\n",
       "      <td>0.028</td>\n",
       "    </tr>\n",
       "    <tr>\n",
       "      <th>Collaborative recommender</th>\n",
       "      <td>0.001</td>\n",
       "    </tr>\n",
       "    <tr>\n",
       "      <th>Hybrid recommender</th>\n",
       "      <td>0.018</td>\n",
       "    </tr>\n",
       "  </tbody>\n",
       "</table>\n",
       "</div>"
      ],
      "text/plain": [
       "                               Processing Time in s\n",
       "Recommender Type                                   \n",
       "Description based recommender                 0.015\n",
       "Keyword based recommender                     0.028\n",
       "Collaborative recommender                     0.001\n",
       "Hybrid recommender                            0.018"
      ]
     },
     "execution_count": 63,
     "metadata": {},
     "output_type": "execute_result"
    }
   ],
   "source": [
    "data = {\n",
    "    'Recommender Type': ['Description based recommender', 'Keyword based recommender', 'Collaborative recommender', 'Hybrid recommender'],\n",
    "    'Processing Time in s': np.round([processing_time_des, processing_time_key, processing_time_colab, processing_time_hyb],3)\n",
    "}\n",
    "\n",
    "df = pd.DataFrame(data)\n",
    "df.set_index('Recommender Type', inplace=True)\n",
    "\n",
    "df"
   ]
  },
  {
   "cell_type": "markdown",
   "id": "df5a538c",
   "metadata": {},
   "source": [
    "<a class='anchor' id=\"conc\"></a>"
   ]
  },
  {
   "cell_type": "markdown",
   "id": "68a39a1f",
   "metadata": {},
   "source": [
    "# Conclusion"
   ]
  },
  {
   "cell_type": "markdown",
   "id": "a80aaeac",
   "metadata": {},
   "source": [
    "In this notebook, I've crafted four distinct recommendation engines, each leveraging different ideas and algorithms to provide movie recommendations:\n",
    "\n",
    "1. Simple Recommender: This engine relies on basic yet effective metrics like Vote Count and Vote Averages to generate Top Movies Charts. It takes into account overall popularity and rating scores, both across all movies and within specific genres. By employing the Weighted Rating System, which factors in both the number of votes and the average rating, it calculates a composite rating for each movie. This system serves as a straightforward yet reliable method for suggesting popular and highly-rated movies.\n",
    "\n",
    "2. Content-Based Recommender: Here, I've developed two content-based recommendation engines. The first one analyzes movie overviews and taglines to understand the essence of each movie and make recommendations based on similar content. The second engine utilizes richer metadata including information about the cast, crew, genre, and keywords associated with each movie. Additionally, a simple filter is implemented to give preference to movies with a higher number of votes and ratings, ensuring that recommendations are based on both content similarity and popularity.\n",
    "\n",
    "3. Collaborative Filtering: Leveraging the powerful Surprise Library, I've implemented a collaborative filtering recommendation engine based on singular value decomposition (SVD). This method utilizes user-item interaction data to generate personalized recommendations. By learning patterns in user preferences and item characteristics, the engine can provide accurate predictions for how users would rate unseen movies. The achieved root mean squared error (RMSE) of less than 1 indicates the effectiveness of this approach in estimating user preferences.\n",
    "\n",
    "4. Hybrid Engine: Combining elements from both content-based and collaborative filtering approaches, this engine offers personalized movie suggestions for individual users. It utilizes internally calculated estimated ratings derived from collaborative filtering to enhance the content-based recommendations. By leveraging the strengths of both methods, this hybrid engine aims to provide more accurate and diverse movie recommendations tailored to each user's preferences."
   ]
  },
  {
   "cell_type": "code",
   "execution_count": null,
   "id": "c187b053",
   "metadata": {},
   "outputs": [],
   "source": []
  }
 ],
 "metadata": {
  "kernelspec": {
   "display_name": "Python 3 (ipykernel)",
   "language": "python",
   "name": "python3"
  },
  "language_info": {
   "codemirror_mode": {
    "name": "ipython",
    "version": 3
   },
   "file_extension": ".py",
   "mimetype": "text/x-python",
   "name": "python",
   "nbconvert_exporter": "python",
   "pygments_lexer": "ipython3",
   "version": "3.11.5"
  }
 },
 "nbformat": 4,
 "nbformat_minor": 5
}
